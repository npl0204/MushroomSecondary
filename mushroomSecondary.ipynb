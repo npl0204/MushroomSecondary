{
  "nbformat": 4,
  "nbformat_minor": 0,
  "metadata": {
    "colab": {
      "name": "mushroomSecondary.ipynb",
      "provenance": [],
      "collapsed_sections": [
        "C5qNkFZVOK5u",
        "eNhAbLwoORLT",
        "0EZu6PDQbC20",
        "nq7kHEpm5kym",
        "mnOaY7bHPbzD",
        "U7-dRRoZPiKw",
        "ViwGlvHlPi5U",
        "lM97Z1Kf6bJP",
        "-kZrLe6jOnuD",
        "W-PFU3YpOuAQ",
        "xgFdssypOvBs",
        "VQkxNWFeW9Uc",
        "nvRHKu5oW9Ud"
      ],
      "authorship_tag": "ABX9TyM/pFg/LOvRKFvcg2Cn9Xqo",
      "include_colab_link": true
    },
    "kernelspec": {
      "name": "python3",
      "display_name": "Python 3"
    },
    "language_info": {
      "name": "python"
    },
    "accelerator": "GPU"
  },
  "cells": [
    {
      "cell_type": "markdown",
      "metadata": {
        "id": "view-in-github",
        "colab_type": "text"
      },
      "source": [
        "<a href=\"https://colab.research.google.com/github/npl0204/MushroomSecondary/blob/main/mushroomSecondary.ipynb\" target=\"_parent\"><img src=\"https://colab.research.google.com/assets/colab-badge.svg\" alt=\"Open In Colab\"/></a>"
      ]
    },
    {
      "cell_type": "markdown",
      "source": [
        "## Loading Data and Package"
      ],
      "metadata": {
        "id": "DADO6NaCNHuP"
      }
    },
    {
      "cell_type": "code",
      "source": [
        "from google.colab import drive\n",
        "drive.mount('/content/drive')"
      ],
      "metadata": {
        "colab": {
          "base_uri": "https://localhost:8080/"
        },
        "id": "9PwfkfwXr2jv",
        "outputId": "5430391a-0347-4f93-bb4d-c4ebba6a1e98"
      },
      "execution_count": 1,
      "outputs": [
        {
          "output_type": "stream",
          "name": "stdout",
          "text": [
            "Mounted at /content/drive\n"
          ]
        }
      ]
    },
    {
      "cell_type": "code",
      "source": [
        "from sklearn.model_selection import train_test_split\n",
        "import pandas as pd\n",
        "import numpy as np\n",
        "import seaborn as sns\n",
        "import matplotlib.pyplot as plt\n",
        "% matplotlib inline\n",
        "import math\n",
        "from sklearn.linear_model import LogisticRegression\n",
        "from sklearn.metrics import confusion_matrix\n",
        "from sklearn.metrics import accuracy_score\n",
        "from sklearn.metrics import precision_score, recall_score, f1_score"
      ],
      "metadata": {
        "id": "CJlE7feRrwx2"
      },
      "execution_count": 2,
      "outputs": []
    },
    {
      "cell_type": "code",
      "source": [
        "mushroom = pd.read_csv(\"/content/drive/MyDrive/Logistic Regression/secondary_data.csv\", sep = \";\")\n",
        "mushroom.head()"
      ],
      "metadata": {
        "colab": {
          "base_uri": "https://localhost:8080/",
          "height": 0
        },
        "id": "ljKW5GKVHg4q",
        "outputId": "957c87bf-cbbe-426e-b6c8-c950f8197ab5"
      },
      "execution_count": 3,
      "outputs": [
        {
          "output_type": "execute_result",
          "data": {
            "text/plain": [
              "  class  cap-diameter cap-shape cap-surface cap-color does-bruise-or-bleed  \\\n",
              "0     p         15.26         x           g         o                    f   \n",
              "1     p         16.60         x           g         o                    f   \n",
              "2     p         14.07         x           g         o                    f   \n",
              "3     p         14.17         f           h         e                    f   \n",
              "4     p         14.64         x           h         o                    f   \n",
              "\n",
              "  gill-attachment gill-spacing gill-color  stem-height  ...  stem-root  \\\n",
              "0               e          NaN          w        16.95  ...          s   \n",
              "1               e          NaN          w        17.99  ...          s   \n",
              "2               e          NaN          w        17.80  ...          s   \n",
              "3               e          NaN          w        15.77  ...          s   \n",
              "4               e          NaN          w        16.53  ...          s   \n",
              "\n",
              "  stem-surface stem-color veil-type veil-color has-ring ring-type  \\\n",
              "0            y          w         u          w        t         g   \n",
              "1            y          w         u          w        t         g   \n",
              "2            y          w         u          w        t         g   \n",
              "3            y          w         u          w        t         p   \n",
              "4            y          w         u          w        t         p   \n",
              "\n",
              "  spore-print-color habitat season  \n",
              "0               NaN       d      w  \n",
              "1               NaN       d      u  \n",
              "2               NaN       d      w  \n",
              "3               NaN       d      w  \n",
              "4               NaN       d      w  \n",
              "\n",
              "[5 rows x 21 columns]"
            ],
            "text/html": [
              "\n",
              "  <div id=\"df-000623ab-b103-44d3-a67a-2e59f1f85a59\">\n",
              "    <div class=\"colab-df-container\">\n",
              "      <div>\n",
              "<style scoped>\n",
              "    .dataframe tbody tr th:only-of-type {\n",
              "        vertical-align: middle;\n",
              "    }\n",
              "\n",
              "    .dataframe tbody tr th {\n",
              "        vertical-align: top;\n",
              "    }\n",
              "\n",
              "    .dataframe thead th {\n",
              "        text-align: right;\n",
              "    }\n",
              "</style>\n",
              "<table border=\"1\" class=\"dataframe\">\n",
              "  <thead>\n",
              "    <tr style=\"text-align: right;\">\n",
              "      <th></th>\n",
              "      <th>class</th>\n",
              "      <th>cap-diameter</th>\n",
              "      <th>cap-shape</th>\n",
              "      <th>cap-surface</th>\n",
              "      <th>cap-color</th>\n",
              "      <th>does-bruise-or-bleed</th>\n",
              "      <th>gill-attachment</th>\n",
              "      <th>gill-spacing</th>\n",
              "      <th>gill-color</th>\n",
              "      <th>stem-height</th>\n",
              "      <th>...</th>\n",
              "      <th>stem-root</th>\n",
              "      <th>stem-surface</th>\n",
              "      <th>stem-color</th>\n",
              "      <th>veil-type</th>\n",
              "      <th>veil-color</th>\n",
              "      <th>has-ring</th>\n",
              "      <th>ring-type</th>\n",
              "      <th>spore-print-color</th>\n",
              "      <th>habitat</th>\n",
              "      <th>season</th>\n",
              "    </tr>\n",
              "  </thead>\n",
              "  <tbody>\n",
              "    <tr>\n",
              "      <th>0</th>\n",
              "      <td>p</td>\n",
              "      <td>15.26</td>\n",
              "      <td>x</td>\n",
              "      <td>g</td>\n",
              "      <td>o</td>\n",
              "      <td>f</td>\n",
              "      <td>e</td>\n",
              "      <td>NaN</td>\n",
              "      <td>w</td>\n",
              "      <td>16.95</td>\n",
              "      <td>...</td>\n",
              "      <td>s</td>\n",
              "      <td>y</td>\n",
              "      <td>w</td>\n",
              "      <td>u</td>\n",
              "      <td>w</td>\n",
              "      <td>t</td>\n",
              "      <td>g</td>\n",
              "      <td>NaN</td>\n",
              "      <td>d</td>\n",
              "      <td>w</td>\n",
              "    </tr>\n",
              "    <tr>\n",
              "      <th>1</th>\n",
              "      <td>p</td>\n",
              "      <td>16.60</td>\n",
              "      <td>x</td>\n",
              "      <td>g</td>\n",
              "      <td>o</td>\n",
              "      <td>f</td>\n",
              "      <td>e</td>\n",
              "      <td>NaN</td>\n",
              "      <td>w</td>\n",
              "      <td>17.99</td>\n",
              "      <td>...</td>\n",
              "      <td>s</td>\n",
              "      <td>y</td>\n",
              "      <td>w</td>\n",
              "      <td>u</td>\n",
              "      <td>w</td>\n",
              "      <td>t</td>\n",
              "      <td>g</td>\n",
              "      <td>NaN</td>\n",
              "      <td>d</td>\n",
              "      <td>u</td>\n",
              "    </tr>\n",
              "    <tr>\n",
              "      <th>2</th>\n",
              "      <td>p</td>\n",
              "      <td>14.07</td>\n",
              "      <td>x</td>\n",
              "      <td>g</td>\n",
              "      <td>o</td>\n",
              "      <td>f</td>\n",
              "      <td>e</td>\n",
              "      <td>NaN</td>\n",
              "      <td>w</td>\n",
              "      <td>17.80</td>\n",
              "      <td>...</td>\n",
              "      <td>s</td>\n",
              "      <td>y</td>\n",
              "      <td>w</td>\n",
              "      <td>u</td>\n",
              "      <td>w</td>\n",
              "      <td>t</td>\n",
              "      <td>g</td>\n",
              "      <td>NaN</td>\n",
              "      <td>d</td>\n",
              "      <td>w</td>\n",
              "    </tr>\n",
              "    <tr>\n",
              "      <th>3</th>\n",
              "      <td>p</td>\n",
              "      <td>14.17</td>\n",
              "      <td>f</td>\n",
              "      <td>h</td>\n",
              "      <td>e</td>\n",
              "      <td>f</td>\n",
              "      <td>e</td>\n",
              "      <td>NaN</td>\n",
              "      <td>w</td>\n",
              "      <td>15.77</td>\n",
              "      <td>...</td>\n",
              "      <td>s</td>\n",
              "      <td>y</td>\n",
              "      <td>w</td>\n",
              "      <td>u</td>\n",
              "      <td>w</td>\n",
              "      <td>t</td>\n",
              "      <td>p</td>\n",
              "      <td>NaN</td>\n",
              "      <td>d</td>\n",
              "      <td>w</td>\n",
              "    </tr>\n",
              "    <tr>\n",
              "      <th>4</th>\n",
              "      <td>p</td>\n",
              "      <td>14.64</td>\n",
              "      <td>x</td>\n",
              "      <td>h</td>\n",
              "      <td>o</td>\n",
              "      <td>f</td>\n",
              "      <td>e</td>\n",
              "      <td>NaN</td>\n",
              "      <td>w</td>\n",
              "      <td>16.53</td>\n",
              "      <td>...</td>\n",
              "      <td>s</td>\n",
              "      <td>y</td>\n",
              "      <td>w</td>\n",
              "      <td>u</td>\n",
              "      <td>w</td>\n",
              "      <td>t</td>\n",
              "      <td>p</td>\n",
              "      <td>NaN</td>\n",
              "      <td>d</td>\n",
              "      <td>w</td>\n",
              "    </tr>\n",
              "  </tbody>\n",
              "</table>\n",
              "<p>5 rows × 21 columns</p>\n",
              "</div>\n",
              "      <button class=\"colab-df-convert\" onclick=\"convertToInteractive('df-000623ab-b103-44d3-a67a-2e59f1f85a59')\"\n",
              "              title=\"Convert this dataframe to an interactive table.\"\n",
              "              style=\"display:none;\">\n",
              "        \n",
              "  <svg xmlns=\"http://www.w3.org/2000/svg\" height=\"24px\"viewBox=\"0 0 24 24\"\n",
              "       width=\"24px\">\n",
              "    <path d=\"M0 0h24v24H0V0z\" fill=\"none\"/>\n",
              "    <path d=\"M18.56 5.44l.94 2.06.94-2.06 2.06-.94-2.06-.94-.94-2.06-.94 2.06-2.06.94zm-11 1L8.5 8.5l.94-2.06 2.06-.94-2.06-.94L8.5 2.5l-.94 2.06-2.06.94zm10 10l.94 2.06.94-2.06 2.06-.94-2.06-.94-.94-2.06-.94 2.06-2.06.94z\"/><path d=\"M17.41 7.96l-1.37-1.37c-.4-.4-.92-.59-1.43-.59-.52 0-1.04.2-1.43.59L10.3 9.45l-7.72 7.72c-.78.78-.78 2.05 0 2.83L4 21.41c.39.39.9.59 1.41.59.51 0 1.02-.2 1.41-.59l7.78-7.78 2.81-2.81c.8-.78.8-2.07 0-2.86zM5.41 20L4 18.59l7.72-7.72 1.47 1.35L5.41 20z\"/>\n",
              "  </svg>\n",
              "      </button>\n",
              "      \n",
              "  <style>\n",
              "    .colab-df-container {\n",
              "      display:flex;\n",
              "      flex-wrap:wrap;\n",
              "      gap: 12px;\n",
              "    }\n",
              "\n",
              "    .colab-df-convert {\n",
              "      background-color: #E8F0FE;\n",
              "      border: none;\n",
              "      border-radius: 50%;\n",
              "      cursor: pointer;\n",
              "      display: none;\n",
              "      fill: #1967D2;\n",
              "      height: 32px;\n",
              "      padding: 0 0 0 0;\n",
              "      width: 32px;\n",
              "    }\n",
              "\n",
              "    .colab-df-convert:hover {\n",
              "      background-color: #E2EBFA;\n",
              "      box-shadow: 0px 1px 2px rgba(60, 64, 67, 0.3), 0px 1px 3px 1px rgba(60, 64, 67, 0.15);\n",
              "      fill: #174EA6;\n",
              "    }\n",
              "\n",
              "    [theme=dark] .colab-df-convert {\n",
              "      background-color: #3B4455;\n",
              "      fill: #D2E3FC;\n",
              "    }\n",
              "\n",
              "    [theme=dark] .colab-df-convert:hover {\n",
              "      background-color: #434B5C;\n",
              "      box-shadow: 0px 1px 3px 1px rgba(0, 0, 0, 0.15);\n",
              "      filter: drop-shadow(0px 1px 2px rgba(0, 0, 0, 0.3));\n",
              "      fill: #FFFFFF;\n",
              "    }\n",
              "  </style>\n",
              "\n",
              "      <script>\n",
              "        const buttonEl =\n",
              "          document.querySelector('#df-000623ab-b103-44d3-a67a-2e59f1f85a59 button.colab-df-convert');\n",
              "        buttonEl.style.display =\n",
              "          google.colab.kernel.accessAllowed ? 'block' : 'none';\n",
              "\n",
              "        async function convertToInteractive(key) {\n",
              "          const element = document.querySelector('#df-000623ab-b103-44d3-a67a-2e59f1f85a59');\n",
              "          const dataTable =\n",
              "            await google.colab.kernel.invokeFunction('convertToInteractive',\n",
              "                                                     [key], {});\n",
              "          if (!dataTable) return;\n",
              "\n",
              "          const docLinkHtml = 'Like what you see? Visit the ' +\n",
              "            '<a target=\"_blank\" href=https://colab.research.google.com/notebooks/data_table.ipynb>data table notebook</a>'\n",
              "            + ' to learn more about interactive tables.';\n",
              "          element.innerHTML = '';\n",
              "          dataTable['output_type'] = 'display_data';\n",
              "          await google.colab.output.renderOutput(dataTable, element);\n",
              "          const docLink = document.createElement('div');\n",
              "          docLink.innerHTML = docLinkHtml;\n",
              "          element.appendChild(docLink);\n",
              "        }\n",
              "      </script>\n",
              "    </div>\n",
              "  </div>\n",
              "  "
            ]
          },
          "metadata": {},
          "execution_count": 3
        }
      ]
    },
    {
      "cell_type": "markdown",
      "source": [
        "## Data Wrangling and Cleansing"
      ],
      "metadata": {
        "id": "ZujyxE_mN7q7"
      }
    },
    {
      "cell_type": "code",
      "source": [
        "mushroom.info()"
      ],
      "metadata": {
        "colab": {
          "base_uri": "https://localhost:8080/"
        },
        "id": "vQuazKt7tYvh",
        "outputId": "ad888815-4ad2-4df9-efd7-a5471af58b35"
      },
      "execution_count": 4,
      "outputs": [
        {
          "output_type": "stream",
          "name": "stdout",
          "text": [
            "<class 'pandas.core.frame.DataFrame'>\n",
            "RangeIndex: 61069 entries, 0 to 61068\n",
            "Data columns (total 21 columns):\n",
            " #   Column                Non-Null Count  Dtype  \n",
            "---  ------                --------------  -----  \n",
            " 0   class                 61069 non-null  object \n",
            " 1   cap-diameter          61069 non-null  float64\n",
            " 2   cap-shape             61069 non-null  object \n",
            " 3   cap-surface           46949 non-null  object \n",
            " 4   cap-color             61069 non-null  object \n",
            " 5   does-bruise-or-bleed  61069 non-null  object \n",
            " 6   gill-attachment       51185 non-null  object \n",
            " 7   gill-spacing          36006 non-null  object \n",
            " 8   gill-color            61069 non-null  object \n",
            " 9   stem-height           61069 non-null  float64\n",
            " 10  stem-width            61069 non-null  float64\n",
            " 11  stem-root             9531 non-null   object \n",
            " 12  stem-surface          22945 non-null  object \n",
            " 13  stem-color            61069 non-null  object \n",
            " 14  veil-type             3177 non-null   object \n",
            " 15  veil-color            7413 non-null   object \n",
            " 16  has-ring              61069 non-null  object \n",
            " 17  ring-type             58598 non-null  object \n",
            " 18  spore-print-color     6354 non-null   object \n",
            " 19  habitat               61069 non-null  object \n",
            " 20  season                61069 non-null  object \n",
            "dtypes: float64(3), object(18)\n",
            "memory usage: 9.8+ MB\n"
          ]
        }
      ]
    },
    {
      "cell_type": "code",
      "source": [
        "mushroom.isnull().sum()"
      ],
      "metadata": {
        "colab": {
          "base_uri": "https://localhost:8080/"
        },
        "id": "qily8Zd-voTG",
        "outputId": "0fedb078-ac5d-497e-a690-7a5ef0e1704e"
      },
      "execution_count": 5,
      "outputs": [
        {
          "output_type": "execute_result",
          "data": {
            "text/plain": [
              "class                       0\n",
              "cap-diameter                0\n",
              "cap-shape                   0\n",
              "cap-surface             14120\n",
              "cap-color                   0\n",
              "does-bruise-or-bleed        0\n",
              "gill-attachment          9884\n",
              "gill-spacing            25063\n",
              "gill-color                  0\n",
              "stem-height                 0\n",
              "stem-width                  0\n",
              "stem-root               51538\n",
              "stem-surface            38124\n",
              "stem-color                  0\n",
              "veil-type               57892\n",
              "veil-color              53656\n",
              "has-ring                    0\n",
              "ring-type                2471\n",
              "spore-print-color       54715\n",
              "habitat                     0\n",
              "season                      0\n",
              "dtype: int64"
            ]
          },
          "metadata": {},
          "execution_count": 5
        }
      ]
    },
    {
      "cell_type": "code",
      "source": [
        "mushroomNA = [\"cap-surface\", \"gill-attachment\", \"gill-spacing\", \"stem-root\", \"stem-surface\", \"veil-type\", \"veil-color\",\"ring-type\", \"spore-print-color\"]\n",
        "for feature in mushroomNA:\n",
        "    mushroom[feature].fillna(\"NA\", inplace = True)"
      ],
      "metadata": {
        "id": "pt6Ro4eIvtd8"
      },
      "execution_count": 6,
      "outputs": []
    },
    {
      "cell_type": "code",
      "source": [
        "mushroom.info()"
      ],
      "metadata": {
        "colab": {
          "base_uri": "https://localhost:8080/"
        },
        "id": "5IpzajTTwjUc",
        "outputId": "f653b3fb-ca31-41a4-f52e-1f591793d03f"
      },
      "execution_count": 7,
      "outputs": [
        {
          "output_type": "stream",
          "name": "stdout",
          "text": [
            "<class 'pandas.core.frame.DataFrame'>\n",
            "RangeIndex: 61069 entries, 0 to 61068\n",
            "Data columns (total 21 columns):\n",
            " #   Column                Non-Null Count  Dtype  \n",
            "---  ------                --------------  -----  \n",
            " 0   class                 61069 non-null  object \n",
            " 1   cap-diameter          61069 non-null  float64\n",
            " 2   cap-shape             61069 non-null  object \n",
            " 3   cap-surface           61069 non-null  object \n",
            " 4   cap-color             61069 non-null  object \n",
            " 5   does-bruise-or-bleed  61069 non-null  object \n",
            " 6   gill-attachment       61069 non-null  object \n",
            " 7   gill-spacing          61069 non-null  object \n",
            " 8   gill-color            61069 non-null  object \n",
            " 9   stem-height           61069 non-null  float64\n",
            " 10  stem-width            61069 non-null  float64\n",
            " 11  stem-root             61069 non-null  object \n",
            " 12  stem-surface          61069 non-null  object \n",
            " 13  stem-color            61069 non-null  object \n",
            " 14  veil-type             61069 non-null  object \n",
            " 15  veil-color            61069 non-null  object \n",
            " 16  has-ring              61069 non-null  object \n",
            " 17  ring-type             61069 non-null  object \n",
            " 18  spore-print-color     61069 non-null  object \n",
            " 19  habitat               61069 non-null  object \n",
            " 20  season                61069 non-null  object \n",
            "dtypes: float64(3), object(18)\n",
            "memory usage: 9.8+ MB\n"
          ]
        }
      ]
    },
    {
      "cell_type": "markdown",
      "source": [
        "## Data Analysis"
      ],
      "metadata": {
        "id": "8WXowIrlA5jV"
      }
    },
    {
      "cell_type": "code",
      "source": [
        "category = mushroom.drop([\"cap-diameter\", \"stem-height\", \"stem-width\"], axis = 1)\n",
        "for i in category.columns: \n",
        "    sns.countplot(x = i, data = category)\n",
        "    plt.show()"
      ],
      "metadata": {
        "colab": {
          "base_uri": "https://localhost:8080/",
          "height": 0
        },
        "id": "AM4haIaw_n6D",
        "outputId": "f956d0ee-64b1-41af-81ad-f5d3d34eef0e"
      },
      "execution_count": 8,
      "outputs": [
        {
          "output_type": "display_data",
          "data": {
            "text/plain": [
              "<Figure size 432x288 with 1 Axes>"
            ],
            "image/png": "[encoded data removed]"
          },
          "metadata": {
            "needs_background": "light"
          }
        },
        {
          "output_type": "display_data",
          "data": {
            "text/plain": [
              "<Figure size 432x288 with 1 Axes>"
            ],
            "image/png": "[encoded data removed]"
          },
          "metadata": {
            "needs_background": "light"
          }
        },
        {
          "output_type": "display_data",
          "data": {
            "text/plain": [
              "<Figure size 432x288 with 1 Axes>"
            ],
            "image/png": "[encoded data removed]"
          },
          "metadata": {
            "needs_background": "light"
          }
        },
        {
          "output_type": "display_data",
          "data": {
            "text/plain": [
              "<Figure size 432x288 with 1 Axes>"
            ],
            "image/png": "[encoded data removed]"
          },
          "metadata": {
            "needs_background": "light"
          }
        },
        {
          "output_type": "display_data",
          "data": {
            "text/plain": [
              "<Figure size 432x288 with 1 Axes>"
            ],
            "image/png": "[encoded data removed]"
          },
          "metadata": {
            "needs_background": "light"
          }
        },
        {
          "output_type": "display_data",
          "data": {
            "text/plain": [
              "<Figure size 432x288 with 1 Axes>"
            ],
            "image/png": "[encoded data removed]"
          },
          "metadata": {
            "needs_background": "light"
          }
        },
        {
          "output_type": "display_data",
          "data": {
            "text/plain": [
              "<Figure size 432x288 with 1 Axes>"
            ],
            "image/png": "[encoded data removed]"
          },
          "metadata": {
            "needs_background": "light"
          }
        },
        {
          "output_type": "display_data",
          "data": {
            "text/plain": [
              "<Figure size 432x288 with 1 Axes>"
            ],
            "image/png": "[encoded data removed]"
          },
          "metadata": {
            "needs_background": "light"
          }
        },
        {
          "output_type": "display_data",
          "data": {
            "text/plain": [
              "<Figure size 432x288 with 1 Axes>"
            ],
            "image/png": "[encoded data removed]"
          },
          "metadata": {
            "needs_background": "light"
          }
        },
        {
          "output_type": "display_data",
          "data": {
            "text/plain": [
              "<Figure size 432x288 with 1 Axes>"
            ],
            "image/png": "[encoded data removed]"
          },
          "metadata": {
            "needs_background": "light"
          }
        },
        {
          "output_type": "display_data",
          "data": {
            "text/plain": [
              "<Figure size 432x288 with 1 Axes>"
            ],
            "image/png": "[encoded data removed]"
          },
          "metadata": {
            "needs_background": "light"
          }
        },
        {
          "output_type": "display_data",
          "data": {
            "text/plain": [
              "<Figure size 432x288 with 1 Axes>"
            ],
            "image/png": "[encoded data removed]"
          },
          "metadata": {
            "needs_background": "light"
          }
        },
        {
          "output_type": "display_data",
          "data": {
            "text/plain": [
              "<Figure size 432x288 with 1 Axes>"
            ],
            "image/png": "[encoded data removed]"
          },
          "metadata": {
            "needs_background": "light"
          }
        },
        {
          "output_type": "display_data",
          "data": {
            "text/plain": [
              "<Figure size 432x288 with 1 Axes>"
            ],
            "image/png": "[encoded data removed]"
          },
          "metadata": {
            "needs_background": "light"
          }
        },
        {
          "output_type": "display_data",
          "data": {
            "text/plain": [
              "<Figure size 432x288 with 1 Axes>"
            ],
            "image/png": "[encoded data removed]"
          },
          "metadata": {
            "needs_background": "light"
          }
        },
        {
          "output_type": "display_data",
          "data": {
            "text/plain": [
              "<Figure size 432x288 with 1 Axes>"
            ],
            "image/png": "[encoded data removed]"
          },
          "metadata": {
            "needs_background": "light"
          }
        },
        {
          "output_type": "display_data",
          "data": {
            "text/plain": [
              "<Figure size 432x288 with 1 Axes>"
            ],
            "image/png": "[encoded data removed]"
          },
          "metadata": {
            "needs_background": "light"
          }
        },
        {
          "output_type": "display_data",
          "data": {
            "text/plain": [
              "<Figure size 432x288 with 1 Axes>"
            ],
            "image/png": "[encoded data removed]"
          },
          "metadata": {
            "needs_background": "light"
          }
        }
      ]
    },
    {
      "cell_type": "code",
      "source": [
        "numerical = mushroom[[\"cap-diameter\", \"stem-height\", \"stem-width\"]]\n",
        "for i in numerical.columns: \n",
        "    sns.boxplot(x = i, data = numerical)\n",
        "    plt.show()"
      ],
      "metadata": {
        "colab": {
          "base_uri": "https://localhost:8080/",
          "height": 0
        },
        "id": "3juDqyCjyODg",
        "outputId": "55d70dee-573e-485b-c5d7-96e5486bf608"
      },
      "execution_count": 9,
      "outputs": [
        {
          "output_type": "display_data",
          "data": {
            "text/plain": [
              "<Figure size 432x288 with 1 Axes>"
            ],
            "image/png": "[encoded data removed]"
          },
          "metadata": {
            "needs_background": "light"
          }
        },
        {
          "output_type": "display_data",
          "data": {
            "text/plain": [
              "<Figure size 432x288 with 1 Axes>"
            ],
            "image/png": "[encoded data removed]"
          },
          "metadata": {
            "needs_background": "light"
          }
        },
        {
          "output_type": "display_data",
          "data": {
            "text/plain": [
              "<Figure size 432x288 with 1 Axes>"
            ],
            "image/png": "[encoded data removed]"
          },
          "metadata": {
            "needs_background": "light"
          }
        }
      ]
    },
    {
      "cell_type": "markdown",
      "source": [
        "## Machine Learning Models"
      ],
      "metadata": {
        "id": "IMyt364eOHbo"
      }
    },
    {
      "cell_type": "markdown",
      "source": [
        "### **Splitting Dataset**"
      ],
      "metadata": {
        "id": "C5qNkFZVOK5u"
      }
    },
    {
      "cell_type": "code",
      "source": [
        "from sklearn.linear_model import LogisticRegression\n",
        "from sklearn.svm import SVC\n",
        "from sklearn.model_selection import train_test_split\n",
        "\n",
        "from sklearn.metrics import precision_recall_curve, f1_score, confusion_matrix, accuracy_score, classification_report, precision_score, recall_score\n",
        "import matplotlib.pyplot as plt\n",
        "from numpy import argmax"
      ],
      "metadata": {
        "id": "ea1t6QC1tXnd"
      },
      "execution_count": 10,
      "outputs": []
    },
    {
      "cell_type": "code",
      "source": [
        "X = pd.get_dummies(mushroom.drop([\"class\"], axis = 1), drop_first = True)\n",
        "y = pd.get_dummies(mushroom[\"class\"], drop_first = True) # y should be a 1d array -> drop_first = True"
      ],
      "metadata": {
        "id": "hKpYw0AI5eUS"
      },
      "execution_count": 11,
      "outputs": []
    },
    {
      "cell_type": "markdown",
      "source": [
        "Divide **train-validation-tuning-test** into three set **70-10-10-10** and **50-15-15-20** and **25-25-25-25**"
      ],
      "metadata": {
        "id": "iP970JM3wLGT"
      }
    },
    {
      "cell_type": "code",
      "source": [
        "# 70-10-10-10\n",
        "X_train1, X_test1, y_train1, y_test1 = train_test_split(X, y, test_size = 0.1, random_state = 42, stratify = y)\n",
        "X_train1, X_val1, y_train1, y_val1 = train_test_split(X_train1, y_train1, test_size = 0.1/0.9, random_state = 42, stratify = y_train1)\n",
        "X_train1, X_tuning1, y_train1, y_tuning1 = train_test_split(X_train1, y_train1, test_size = 0.1/0.8, random_state = 42, stratify = y_train1)"
      ],
      "metadata": {
        "id": "byoCIkeLtaSM"
      },
      "execution_count": 12,
      "outputs": []
    },
    {
      "cell_type": "code",
      "source": [
        "# 50-15-15-20\n",
        "X_train2, X_test2, y_train2, y_test2 = train_test_split(X, y, test_size = 0.2, random_state = 42, stratify = y)\n",
        "X_train2, X_val2, y_train2, y_val2 = train_test_split(X_train2, y_train2, test_size = 0.15/0.8, random_state = 42, stratify = y_train2)\n",
        "X_train2, X_tuning2, y_train2, y_tuning2 = train_test_split(X_train2, y_train2, test_size = 0.15/0.65, random_state = 42, stratify = y_train2)"
      ],
      "metadata": {
        "id": "WNADRM60w7-P"
      },
      "execution_count": 13,
      "outputs": []
    },
    {
      "cell_type": "code",
      "source": [
        "# 25-25-25-25\n",
        "X_train3, X_test3, y_train3, y_test3 = train_test_split(X, y, test_size = 0.25, random_state = 42, stratify = y)\n",
        "X_train3, X_val3, y_train3, y_val3 = train_test_split(X_train3, y_train3, test_size = 0.25/0.75, random_state = 42, stratify = y_train3)\n",
        "X_train3, X_tuning3, y_train3, y_tuning3 = train_test_split(X_train3, y_train3, test_size = 0.25/0.5, random_state = 42, stratify = y_train3)"
      ],
      "metadata": {
        "id": "Gv8GFMGDw8h3"
      },
      "execution_count": 14,
      "outputs": []
    },
    {
      "cell_type": "markdown",
      "source": [
        "### **Logistic Regression**"
      ],
      "metadata": {
        "id": "eNhAbLwoORLT"
      }
    },
    {
      "cell_type": "markdown",
      "source": [
        "#### **No tuning**"
      ],
      "metadata": {
        "id": "0EZu6PDQbC20"
      }
    },
    {
      "cell_type": "code",
      "source": [
        "logmodel = LogisticRegression(max_iter = 10000)\n",
        "logmodel.fit(X_train1, y_train1.values.ravel()) # ravel() to return a contiguous flattened array -> ensure a 1d array\n",
        "\n",
        "predictions = logmodel.predict(X_test1)\n",
        "\n",
        "print(\"accuracy_score =\", accuracy_score(y_test1, predictions))\n",
        "print(\"confusion_matrix \\n\", confusion_matrix(y_test1, predictions))\n",
        "print(\"f1 =\", f1_score(predictions, y_test1))"
      ],
      "metadata": {
        "colab": {
          "base_uri": "https://localhost:8080/"
        },
        "outputId": "1015bdc3-df65-4f0f-ba64-053adce9713c",
        "id": "eVTf-qiT5eUS"
      },
      "execution_count": 15,
      "outputs": [
        {
          "output_type": "stream",
          "name": "stdout",
          "text": [
            "accuracy_score = 0.8581955133453414\n",
            "confusion_matrix \n",
            " [[2295  423]\n",
            " [ 443 2946]]\n",
            "f1 = 0.8718555785735425\n"
          ]
        }
      ]
    },
    {
      "cell_type": "markdown",
      "source": [
        "#### **Tuning**"
      ],
      "metadata": {
        "id": "nq7kHEpm5kym"
      }
    },
    {
      "cell_type": "code",
      "source": [
        "def to_labels(pos_probs, threshold):\n",
        "\treturn (pos_probs >= threshold).astype(\"int\")"
      ],
      "metadata": {
        "id": "Rs6oyLPOzXLZ"
      },
      "execution_count": 16,
      "outputs": []
    },
    {
      "cell_type": "markdown",
      "source": [
        "##### **Set 70-10-10-10**"
      ],
      "metadata": {
        "id": "mnOaY7bHPbzD"
      }
    },
    {
      "cell_type": "code",
      "source": [
        "from sklearn.preprocessing import StandardScaler\n",
        "scaler = StandardScaler()\n",
        "X_train_scaled = scaler.fit_transform(X_train1)\n",
        "X_test_scaled = scaler.transform(X_test1)\n",
        "X_tuning_scaled = scaler.transform(X_tuning1)\n",
        "\n",
        "LR1 = LogisticRegression(max_iter = 10000)\n",
        "LR1.fit(X_train_scaled, y_train1)"
      ],
      "metadata": {
        "colab": {
          "base_uri": "https://localhost:8080/"
        },
        "id": "YS-ZKCOGaQEl",
        "outputId": "45e56845-98a2-4436-bc8e-585984143b53"
      },
      "execution_count": 17,
      "outputs": [
        {
          "output_type": "stream",
          "name": "stderr",
          "text": [
            "/usr/local/lib/python3.7/dist-packages/sklearn/utils/validation.py:993: DataConversionWarning: A column-vector y was passed when a 1d array was expected. Please change the shape of y to (n_samples, ), for example using ravel().\n",
            "  y = column_or_1d(y, warn=True)\n"
          ]
        },
        {
          "output_type": "execute_result",
          "data": {
            "text/plain": [
              "LogisticRegression(max_iter=10000)"
            ]
          },
          "metadata": {},
          "execution_count": 17
        }
      ]
    },
    {
      "cell_type": "code",
      "source": [
        "predictProba = LR1.predict_proba(X_tuning_scaled)[:, 1]\n",
        "precision, recall, thresholds = precision_recall_curve(y_tuning1, predictProba)\n",
        "\n",
        "fSscores = (2 * precision * recall)/(precision + recall)\n",
        "fSscores = [0 if pd.isna(x) else x for x in fSscores]\n",
        "# locate the index of the largest f score\n",
        "ix = argmax(fSscores)\n",
        "\n",
        "# plot the roc curve for the model\n",
        "plt.plot(recall, precision, label = 'Logistic')\n",
        "plt.scatter(recall[ix], precision[ix], marker = 'o', color = 'red', label = 'Best')\n",
        "plt.legend()\n",
        "\n",
        "print(\"Best Threshold = {}, F-Score = {}\".format(thresholds[ix], fSscores[ix]))"
      ],
      "metadata": {
        "colab": {
          "base_uri": "https://localhost:8080/",
          "height": 283
        },
        "outputId": "2d385483-f2f6-4674-81c6-0d4c6c1ea9f9",
        "id": "_6I0F55EaQEl"
      },
      "execution_count": 18,
      "outputs": [
        {
          "output_type": "stream",
          "name": "stdout",
          "text": [
            "Best Threshold = 0.5479320978415423, F-Score = 0.8799156245291546\n"
          ]
        },
        {
          "output_type": "display_data",
          "data": {
            "text/plain": [
              "<Figure size 432x288 with 1 Axes>"
            ],
            "image/png": "[encoded data removed]"
          },
          "metadata": {
            "needs_background": "light"
          }
        }
      ]
    },
    {
      "cell_type": "code",
      "source": [
        "predictProba = LR1.predict_proba(X_test_scaled)[:, 1]\n",
        "y_pred = to_labels(predictProba, thresholds[ix])\n",
        "\n",
        "print(\"accuracy score =\", accuracy_score(y_test1, y_pred))\n",
        "print(\"confusion matrix\\n\", confusion_matrix(y_test1, y_pred))\n",
        "print(\"precision score =\", str(precision_score(y_test1, y_pred)))\n",
        "print(\"recall score =\", str(recall_score(y_test1, y_pred)))\n",
        "print(\"f1 score =\", str(f1_score(y_test1, y_pred)))"
      ],
      "metadata": {
        "colab": {
          "base_uri": "https://localhost:8080/"
        },
        "id": "rTQWP372aQEm",
        "outputId": "d9994826-a678-45c3-9d29-fa6562b976df"
      },
      "execution_count": 19,
      "outputs": [
        {
          "output_type": "stream",
          "name": "stdout",
          "text": [
            "accuracy score = 0.8627804159161618\n",
            "confusion matrix\n",
            " [[2371  347]\n",
            " [ 491 2898]]\n",
            "precision score = 0.8930662557781202\n",
            "recall score = 0.8551195042785482\n",
            "f1 score = 0.8736810370817003\n"
          ]
        }
      ]
    },
    {
      "cell_type": "markdown",
      "source": [
        "##### **Set 50-15-15-20**"
      ],
      "metadata": {
        "id": "U7-dRRoZPiKw"
      }
    },
    {
      "cell_type": "code",
      "source": [
        "from sklearn.preprocessing import StandardScaler\n",
        "scaler = StandardScaler()\n",
        "X_train_scaled = scaler.fit_transform(X_train2)\n",
        "X_test_scaled = scaler.transform(X_test2)\n",
        "X_tuning_scaled = scaler.transform(X_tuning2)\n",
        "\n",
        "LR2 = LogisticRegression(max_iter = 10000)\n",
        "LR2.fit(X_train_scaled, y_train2)"
      ],
      "metadata": {
        "colab": {
          "base_uri": "https://localhost:8080/"
        },
        "outputId": "3895e957-8ef5-43ec-d097-21e54dc99f0e",
        "id": "QWh248BvPiKw"
      },
      "execution_count": 20,
      "outputs": [
        {
          "output_type": "stream",
          "name": "stderr",
          "text": [
            "/usr/local/lib/python3.7/dist-packages/sklearn/utils/validation.py:993: DataConversionWarning: A column-vector y was passed when a 1d array was expected. Please change the shape of y to (n_samples, ), for example using ravel().\n",
            "  y = column_or_1d(y, warn=True)\n"
          ]
        },
        {
          "output_type": "execute_result",
          "data": {
            "text/plain": [
              "LogisticRegression(max_iter=10000)"
            ]
          },
          "metadata": {},
          "execution_count": 20
        }
      ]
    },
    {
      "cell_type": "code",
      "source": [
        "predictProba = LR2.predict_proba(X_tuning_scaled)[:, 1]\n",
        "precision, recall, thresholds = precision_recall_curve(y_tuning2, predictProba)\n",
        "\n",
        "fSscores = (2 * precision * recall)/(precision + recall)\n",
        "fSscores = [0 if pd.isna(x) else x for x in fSscores]\n",
        "# locate the index of the largest f score\n",
        "ix = argmax(fSscores)\n",
        "\n",
        "# plot the roc curve for the model\n",
        "plt.plot(recall, precision, label = 'Logistic')\n",
        "plt.scatter(recall[ix], precision[ix], marker = 'o', color = 'red', label = 'Best')\n",
        "plt.legend()\n",
        "\n",
        "print(\"Best Threshold = {}, F-Score = {}\".format(thresholds[ix], fSscores[ix]))"
      ],
      "metadata": {
        "colab": {
          "base_uri": "https://localhost:8080/",
          "height": 283
        },
        "outputId": "61ec31e0-ec9d-4fc6-93d3-837a3b311b30",
        "id": "yWhFKOeePiKy"
      },
      "execution_count": 21,
      "outputs": [
        {
          "output_type": "stream",
          "name": "stdout",
          "text": [
            "Best Threshold = 0.5091437628997343, F-Score = 0.8773885350318471\n"
          ]
        },
        {
          "output_type": "display_data",
          "data": {
            "text/plain": [
              "<Figure size 432x288 with 1 Axes>"
            ],
            "image/png": "[encoded data removed]"
          },
          "metadata": {
            "needs_background": "light"
          }
        }
      ]
    },
    {
      "cell_type": "code",
      "source": [
        "predictProba = LR2.predict_proba(X_test_scaled)[:, 1]\n",
        "y_pred = to_labels(predictProba, thresholds[ix])\n",
        "\n",
        "print(\"accuracy score =\", accuracy_score(y_test2, y_pred))\n",
        "print(\"confusion matrix\\n\", confusion_matrix(y_test2, y_pred))\n",
        "print(\"precision score =\", str(precision_score(y_test2, y_pred)))\n",
        "print(\"recall score =\", str(recall_score(y_test2, y_pred)))\n",
        "print(\"f1 score =\", str(f1_score(y_test2, y_pred)))"
      ],
      "metadata": {
        "colab": {
          "base_uri": "https://localhost:8080/"
        },
        "outputId": "a5938a11-26ba-4bc3-a007-4af609a0b36e",
        "id": "XhwxSEYIPiKy"
      },
      "execution_count": 22,
      "outputs": [
        {
          "output_type": "stream",
          "name": "stdout",
          "text": [
            "accuracy score = 0.867692811527755\n",
            "confusion matrix\n",
            " [[4635  801]\n",
            " [ 815 5963]]\n",
            "precision score = 0.881578947368421\n",
            "recall score = 0.8797580407199764\n",
            "f1 score = 0.8806675527987005\n"
          ]
        }
      ]
    },
    {
      "cell_type": "markdown",
      "source": [
        "##### **Set 25-25-25-25**"
      ],
      "metadata": {
        "id": "ViwGlvHlPi5U"
      }
    },
    {
      "cell_type": "code",
      "source": [
        "from sklearn.preprocessing import StandardScaler\n",
        "scaler = StandardScaler()\n",
        "X_train_scaled = scaler.fit_transform(X_train3)\n",
        "X_test_scaled = scaler.transform(X_test3)\n",
        "X_tuning_scaled = scaler.transform(X_tuning3)\n",
        "\n",
        "LR3 = LogisticRegression(max_iter = 10000)\n",
        "LR3.fit(X_train_scaled, y_train3)"
      ],
      "metadata": {
        "colab": {
          "base_uri": "https://localhost:8080/"
        },
        "outputId": "4ee08c1d-2b46-4a4e-9264-8384a5ae5ba4",
        "id": "j332psHjPi5W"
      },
      "execution_count": 23,
      "outputs": [
        {
          "output_type": "stream",
          "name": "stderr",
          "text": [
            "/usr/local/lib/python3.7/dist-packages/sklearn/utils/validation.py:993: DataConversionWarning: A column-vector y was passed when a 1d array was expected. Please change the shape of y to (n_samples, ), for example using ravel().\n",
            "  y = column_or_1d(y, warn=True)\n"
          ]
        },
        {
          "output_type": "execute_result",
          "data": {
            "text/plain": [
              "LogisticRegression(max_iter=10000)"
            ]
          },
          "metadata": {},
          "execution_count": 23
        }
      ]
    },
    {
      "cell_type": "code",
      "source": [
        "predictProba = LR3.predict_proba(X_tuning_scaled)[:, 1]\n",
        "precision, recall, thresholds = precision_recall_curve(y_tuning3, predictProba)\n",
        "\n",
        "fSscores = (2 * precision * recall)/(precision + recall)\n",
        "fSscores = [0 if pd.isna(x) else x for x in fSscores]\n",
        "# locate the index of the largest f score\n",
        "ix = argmax(fSscores)\n",
        "\n",
        "# plot the roc curve for the model\n",
        "plt.plot(recall, precision, label = 'Logistic')\n",
        "plt.scatter(recall[ix], precision[ix], marker = 'o', color = 'red', label = 'Best')\n",
        "plt.legend()\n",
        "\n",
        "print(\"Best Threshold = {}, F-Score = {}\".format(thresholds[ix], fSscores[ix]))"
      ],
      "metadata": {
        "colab": {
          "base_uri": "https://localhost:8080/",
          "height": 0
        },
        "outputId": "08a0637d-a97d-44e5-c471-dbb2ab592cf0",
        "id": "nVYJHue2Pi5W"
      },
      "execution_count": 24,
      "outputs": [
        {
          "output_type": "stream",
          "name": "stdout",
          "text": [
            "Best Threshold = 0.5043032139358028, F-Score = 0.87138951622489\n"
          ]
        },
        {
          "output_type": "display_data",
          "data": {
            "text/plain": [
              "<Figure size 432x288 with 1 Axes>"
            ],
            "image/png": "[encoded data removed]"
          },
          "metadata": {
            "needs_background": "light"
          }
        }
      ]
    },
    {
      "cell_type": "code",
      "source": [
        "predictProba = LR3.predict_proba(X_test_scaled)[:, 1]\n",
        "y_pred = to_labels(predictProba, thresholds[ix])\n",
        "\n",
        "print(\"accuracy score =\", accuracy_score(y_test3, y_pred))\n",
        "print(\"confusion matrix\\n\", confusion_matrix(y_test3, y_pred))\n",
        "print(\"precision score =\", str(precision_score(y_test3, y_pred)))\n",
        "print(\"recall score =\", str(recall_score(y_test3, y_pred)))\n",
        "print(\"f1 score =\", str(f1_score(y_test3, y_pred)))"
      ],
      "metadata": {
        "colab": {
          "base_uri": "https://localhost:8080/"
        },
        "outputId": "66b61528-0b2e-4613-a5d6-51463358270b",
        "id": "nI1bL3QXPi5W"
      },
      "execution_count": 25,
      "outputs": [
        {
          "output_type": "stream",
          "name": "stdout",
          "text": [
            "accuracy score = 0.8625229237621168\n",
            "confusion matrix\n",
            " [[5764 1032]\n",
            " [1067 7405]]\n",
            "precision score = 0.8776816403935048\n",
            "recall score = 0.8740557129367328\n",
            "f1 score = 0.8758649240049678\n"
          ]
        }
      ]
    },
    {
      "cell_type": "markdown",
      "source": [
        "### **SVM**"
      ],
      "metadata": {
        "id": "lM97Z1Kf6bJP"
      }
    },
    {
      "cell_type": "markdown",
      "source": [
        "SVM performs well in small number of dataset\n",
        "Hence it is better to Downsize the Samples and perform the training"
      ],
      "metadata": {
        "id": "Wvuc2iIkAjFz"
      }
    },
    {
      "cell_type": "markdown",
      "source": [
        "##### **Set 70-10-10-10**"
      ],
      "metadata": {
        "id": "-kZrLe6jOnuD"
      }
    },
    {
      "cell_type": "code",
      "source": [
        "from sklearn.preprocessing import StandardScaler\n",
        "scaler = StandardScaler()\n",
        "X_train_scaled = scaler.fit_transform(X_train1)\n",
        "X_test_scaled = scaler.transform(X_test1)\n",
        "X_tuning_scaled = scaler.transform(X_tuning1)\n",
        "\n",
        "SVM1 = SVC(random_state = 42, probability = True)\n",
        "SVM1.fit(X_train_scaled, y_train1)"
      ],
      "metadata": {
        "colab": {
          "base_uri": "https://localhost:8080/"
        },
        "id": "rr43OAwrD4dS",
        "outputId": "395ae348-75bc-4130-f2d0-e9c0caa07099"
      },
      "execution_count": 26,
      "outputs": [
        {
          "output_type": "stream",
          "name": "stderr",
          "text": [
            "/usr/local/lib/python3.7/dist-packages/sklearn/utils/validation.py:993: DataConversionWarning: A column-vector y was passed when a 1d array was expected. Please change the shape of y to (n_samples, ), for example using ravel().\n",
            "  y = column_or_1d(y, warn=True)\n"
          ]
        },
        {
          "output_type": "execute_result",
          "data": {
            "text/plain": [
              "SVC(probability=True, random_state=42)"
            ]
          },
          "metadata": {},
          "execution_count": 26
        }
      ]
    },
    {
      "cell_type": "code",
      "source": [
        "predictProba = SVM1.predict_proba(X_tuning_scaled)[:, 1]\n",
        "precision, recall, thresholds = precision_recall_curve(y_tuning1, predictProba)\n",
        "\n",
        "fSscores = (2 * precision * recall)/(precision + recall)\n",
        "fSscores = [0 if pd.isna(x) else x for x in fSscores]\n",
        "# locate the index of the largest f score\n",
        "ix = argmax(fSscores)\n",
        "\n",
        "# plot the roc curve for the model\n",
        "plt.plot(recall, precision, label = \"SVM\")\n",
        "plt.scatter(recall[ix], precision[ix], marker = 'o', color = 'red', label = 'Best')\n",
        "plt.legend()\n",
        "\n",
        "print(\"Best Threshold = {}, F-Score = {}\".format(thresholds[ix], fSscores[ix]))"
      ],
      "metadata": {
        "colab": {
          "base_uri": "https://localhost:8080/",
          "height": 283
        },
        "id": "YorI-3bRE6Sl",
        "outputId": "275cc1a0-f9a4-4576-d2c0-cf8df741febe"
      },
      "execution_count": 27,
      "outputs": [
        {
          "output_type": "stream",
          "name": "stdout",
          "text": [
            "Best Threshold = 0.8998889829308908, F-Score = 0.9995575873764931\n"
          ]
        },
        {
          "output_type": "display_data",
          "data": {
            "text/plain": [
              "<Figure size 432x288 with 1 Axes>"
            ],
            "image/png": "[encoded data removed]"
          },
          "metadata": {
            "needs_background": "light"
          }
        }
      ]
    },
    {
      "cell_type": "code",
      "source": [
        "predictProba = SVM1.predict_proba(X_test_scaled)[:, 1]\n",
        "y_pred = to_labels(predictProba, thresholds[ix])\n",
        "\n",
        "print(\"accuracy score =\", accuracy_score(y_test1, y_pred))\n",
        "print(\"confusion matrix\\n\", confusion_matrix(y_test1, y_pred))\n",
        "print(\"precision score = \" + str(precision_score(y_test1, y_pred)))\n",
        "print(\"recall score = \" + str(recall_score(y_test1, y_pred)))\n",
        "print(\"f1 score = \" + str(f1_score(y_test1, y_pred)))"
      ],
      "metadata": {
        "colab": {
          "base_uri": "https://localhost:8080/"
        },
        "id": "4X1rQFOTGpVN",
        "outputId": "8c37f947-4cf3-4659-bf82-96c33ec23dff"
      },
      "execution_count": 28,
      "outputs": [
        {
          "output_type": "stream",
          "name": "stdout",
          "text": [
            "accuracy score = 0.9996725069592272\n",
            "confusion matrix\n",
            " [[2716    2]\n",
            " [   0 3389]]\n",
            "precision score = 0.9994102034797995\n",
            "recall score = 1.0\n",
            "f1 score = 0.9997050147492625\n"
          ]
        }
      ]
    },
    {
      "cell_type": "markdown",
      "source": [
        "##### **Set 50-15-15-20**"
      ],
      "metadata": {
        "id": "W-PFU3YpOuAQ"
      }
    },
    {
      "cell_type": "code",
      "source": [
        "from sklearn.preprocessing import StandardScaler\n",
        "scaler = StandardScaler()\n",
        "X_train_scaled = scaler.fit_transform(X_train2)\n",
        "X_test_scaled = scaler.transform(X_test2)\n",
        "X_tuning_scaled = scaler.transform(X_tuning2)\n",
        "\n",
        "SVM2 = SVC(random_state = 42, probability = True)\n",
        "SVM2.fit(X_train_scaled, y_train2)"
      ],
      "metadata": {
        "colab": {
          "base_uri": "https://localhost:8080/"
        },
        "outputId": "457b82b7-e85c-4f13-a67a-e57c3f0bdbf5",
        "id": "keC0KrWkOuAQ"
      },
      "execution_count": 29,
      "outputs": [
        {
          "output_type": "stream",
          "name": "stderr",
          "text": [
            "/usr/local/lib/python3.7/dist-packages/sklearn/utils/validation.py:993: DataConversionWarning: A column-vector y was passed when a 1d array was expected. Please change the shape of y to (n_samples, ), for example using ravel().\n",
            "  y = column_or_1d(y, warn=True)\n"
          ]
        },
        {
          "output_type": "execute_result",
          "data": {
            "text/plain": [
              "SVC(probability=True, random_state=42)"
            ]
          },
          "metadata": {},
          "execution_count": 29
        }
      ]
    },
    {
      "cell_type": "code",
      "source": [
        "predictProba = SVM2.predict_proba(X_tuning_scaled)[:, 1]\n",
        "precision, recall, thresholds = precision_recall_curve(y_tuning2, predictProba)\n",
        "\n",
        "fSscores = (2 * precision * recall)/(precision + recall)\n",
        "fSscores = [0 if pd.isna(x) else x for x in fSscores]\n",
        "# locate the index of the largest f score\n",
        "ix = argmax(fSscores)\n",
        "\n",
        "# plot the roc curve for the model\n",
        "plt.plot(recall, precision, label = \"SVM\")\n",
        "plt.scatter(recall[ix], precision[ix], marker = 'o', color = 'red', label = 'Best')\n",
        "plt.legend()\n",
        "\n",
        "print(\"Best Threshold = {}, F-Score = {}\".format(thresholds[ix], fSscores[ix]))"
      ],
      "metadata": {
        "id": "7i00sw05OuAQ",
        "colab": {
          "base_uri": "https://localhost:8080/",
          "height": 0
        },
        "outputId": "0ed52fc4-a11c-47bc-97ee-3917a791ce74"
      },
      "execution_count": 30,
      "outputs": [
        {
          "output_type": "stream",
          "name": "stdout",
          "text": [
            "Best Threshold = 0.9063676436840573, F-Score = 0.9998033044846577\n"
          ]
        },
        {
          "output_type": "display_data",
          "data": {
            "text/plain": [
              "<Figure size 432x288 with 1 Axes>"
            ],
            "image/png": "[encoded data removed]"
          },
          "metadata": {
            "needs_background": "light"
          }
        }
      ]
    },
    {
      "cell_type": "code",
      "source": [
        "predictProba = SVM2.predict_proba(X_test_scaled)[:, 1]\n",
        "y_pred = to_labels(predictProba, thresholds[ix])\n",
        "\n",
        "print(\"recall score = \" + str(recall_score(y_test2, y_pred)))\n",
        "print(\"f1 score = \" + str(f1_score(y_test2, y_pred)))\n",
        "print(\"accuracy score =\", accuracy_score(y_test2, y_pred))\n",
        "print(\"confusion matrix\\n\", confusion_matrix(y_test2, y_pred))\n",
        "print(\"precision score = \" + str(precision_score(y_test2, y_pred)))"
      ],
      "metadata": {
        "id": "VO9c1AnPOuAR",
        "colab": {
          "base_uri": "https://localhost:8080/"
        },
        "outputId": "83d73237-ad5b-43c9-aa61-e4256132c5e5"
      },
      "execution_count": 31,
      "outputs": [
        {
          "output_type": "stream",
          "name": "stdout",
          "text": [
            "recall score = 0.9998524638536441\n",
            "f1 score = 0.9996312412419796\n",
            "accuracy score = 0.9995906336990339\n",
            "confusion matrix\n",
            " [[5432    4]\n",
            " [   1 6777]]\n",
            "precision score = 0.9994101165019909\n"
          ]
        }
      ]
    },
    {
      "cell_type": "markdown",
      "source": [
        "##### **Set 25-25-25-25**"
      ],
      "metadata": {
        "id": "xgFdssypOvBs"
      }
    },
    {
      "cell_type": "code",
      "source": [
        "from sklearn.preprocessing import StandardScaler\n",
        "scaler = StandardScaler()\n",
        "X_train_scaled = scaler.fit_transform(X_train3)\n",
        "X_test_scaled = scaler.transform(X_test3)\n",
        "X_tuning_scaled = scaler.transform(X_tuning3)\n",
        "\n",
        "SVM3 = SVC(random_state = 42, probability = True)\n",
        "SVM3.fit(X_train_scaled, y_train3)"
      ],
      "metadata": {
        "id": "kt26jxNvOvBt",
        "colab": {
          "base_uri": "https://localhost:8080/"
        },
        "outputId": "278dfefd-e9df-498b-b82b-ac983372f30b"
      },
      "execution_count": 32,
      "outputs": [
        {
          "output_type": "stream",
          "name": "stderr",
          "text": [
            "/usr/local/lib/python3.7/dist-packages/sklearn/utils/validation.py:993: DataConversionWarning: A column-vector y was passed when a 1d array was expected. Please change the shape of y to (n_samples, ), for example using ravel().\n",
            "  y = column_or_1d(y, warn=True)\n"
          ]
        },
        {
          "output_type": "execute_result",
          "data": {
            "text/plain": [
              "SVC(probability=True, random_state=42)"
            ]
          },
          "metadata": {},
          "execution_count": 32
        }
      ]
    },
    {
      "cell_type": "code",
      "source": [
        "predictProba = SVM3.predict_proba(X_tuning_scaled)[:, 1]\n",
        "precision, recall, thresholds = precision_recall_curve(y_tuning3, predictProba)\n",
        "\n",
        "fSscores = (2 * precision * recall)/(precision + recall)\n",
        "fSscores = [0 if pd.isna(x) else x for x in fSscores]\n",
        "# locate the index of the largest f score\n",
        "ix = argmax(fSscores)\n",
        "\n",
        "# plot the roc curve for the model\n",
        "plt.plot(recall, precision, label = \"SVM\")\n",
        "plt.scatter(recall[ix], precision[ix], marker = 'o', color = 'red', label = 'Best')\n",
        "plt.legend()\n",
        "\n",
        "print(\"Best Threshold = {}, F-Score = {}\".format(thresholds[ix], fSscores[ix]))"
      ],
      "metadata": {
        "colab": {
          "base_uri": "https://localhost:8080/",
          "height": 0
        },
        "outputId": "85a093ba-3de2-49e7-ff0a-74192ed2baee",
        "id": "jyMS3fUDOvBu"
      },
      "execution_count": 33,
      "outputs": [
        {
          "output_type": "stream",
          "name": "stdout",
          "text": [
            "Best Threshold = 0.6060113665754258, F-Score = 0.9998229775181449\n"
          ]
        },
        {
          "output_type": "display_data",
          "data": {
            "text/plain": [
              "<Figure size 432x288 with 1 Axes>"
            ],
            "image/png": "[encoded data removed]"
          },
          "metadata": {
            "needs_background": "light"
          }
        }
      ]
    },
    {
      "cell_type": "code",
      "source": [
        "predictProba = SVM3.predict_proba(X_test_scaled)[:, 1]\n",
        "y_pred = to_labels(predictProba, thresholds[ix])\n",
        "\n",
        "print(\"accuracy score =\", accuracy_score(y_test3, y_pred))\n",
        "print(\"confusion matrix\\n\", confusion_matrix(y_test3, y_pred))\n",
        "print(\"precision score = \" + str(precision_score(y_test3, y_pred)))\n",
        "print(\"recall score = \" + str(recall_score(y_test3, y_pred)))\n",
        "print(\"f1 score = \" + str(f1_score(y_test3, y_pred)))"
      ],
      "metadata": {
        "id": "H0qbqn5WOvBu",
        "colab": {
          "base_uri": "https://localhost:8080/"
        },
        "outputId": "5be56598-fb1c-4012-d413-a27fa5a931b4"
      },
      "execution_count": 34,
      "outputs": [
        {
          "output_type": "stream",
          "name": "stdout",
          "text": [
            "accuracy score = 0.9995415247576631\n",
            "confusion matrix\n",
            " [[6791    5]\n",
            " [   2 8470]]\n",
            "precision score = 0.9994100294985251\n",
            "recall score = 0.9997639282341831\n",
            "f1 score = 0.9995869475423379\n"
          ]
        }
      ]
    },
    {
      "cell_type": "markdown",
      "source": [
        "##### **Set 10-10-10-70**"
      ],
      "metadata": {
        "id": "VQkxNWFeW9Uc"
      }
    },
    {
      "cell_type": "code",
      "source": [
        "from sklearn.preprocessing import StandardScaler\n",
        "scaler = StandardScaler()\n",
        "X_train_scaled = scaler.fit_transform(X_train1)\n",
        "X_test_scaled = scaler.transform(X_test1)\n",
        "X_tuning_scaled = scaler.transform(X_tuning1)\n",
        "\n",
        "SVM4 = SVC(random_state = 42, probability = True)\n",
        "SVM4.fit(X_test_scaled, y_test1)"
      ],
      "metadata": {
        "id": "3DRLeC1rW9Uc",
        "colab": {
          "base_uri": "https://localhost:8080/"
        },
        "outputId": "012ba3db-111c-4ef9-b800-26a46a326a2a"
      },
      "execution_count": 35,
      "outputs": [
        {
          "output_type": "stream",
          "name": "stderr",
          "text": [
            "/usr/local/lib/python3.7/dist-packages/sklearn/utils/validation.py:993: DataConversionWarning: A column-vector y was passed when a 1d array was expected. Please change the shape of y to (n_samples, ), for example using ravel().\n",
            "  y = column_or_1d(y, warn=True)\n"
          ]
        },
        {
          "output_type": "execute_result",
          "data": {
            "text/plain": [
              "SVC(probability=True, random_state=42)"
            ]
          },
          "metadata": {},
          "execution_count": 35
        }
      ]
    },
    {
      "cell_type": "code",
      "source": [
        "predictProba = SVM4.predict_proba(X_tuning_scaled)[:, 1]\n",
        "precision, recall, thresholds = precision_recall_curve(y_tuning1, predictProba)\n",
        "\n",
        "fSscores = (2 * precision * recall)/(precision + recall)\n",
        "fSscores = [0 if pd.isna(x) else x for x in fSscores]\n",
        "# locate the index of the largest f score\n",
        "ix = argmax(fSscores)\n",
        "\n",
        "# plot the roc curve for the model\n",
        "plt.plot(recall, precision, label = \"SVM\")\n",
        "plt.scatter(recall[ix], precision[ix], marker = 'o', color = 'red', label = 'Best')\n",
        "plt.legend()\n",
        "\n",
        "print(\"Best Threshold = {}, F-Score = {}\".format(thresholds[ix], fSscores[ix]))"
      ],
      "metadata": {
        "id": "rizpkyNwW9Uc",
        "colab": {
          "base_uri": "https://localhost:8080/",
          "height": 0
        },
        "outputId": "e6d72ee0-c651-4003-a4c0-eba053442440"
      },
      "execution_count": 36,
      "outputs": [
        {
          "output_type": "stream",
          "name": "stdout",
          "text": [
            "Best Threshold = 0.4113067137786887, F-Score = 0.9963121404336923\n"
          ]
        },
        {
          "output_type": "display_data",
          "data": {
            "text/plain": [
              "<Figure size 432x288 with 1 Axes>"
            ],
            "image/png": "[encoded data removed]"
          },
          "metadata": {
            "needs_background": "light"
          }
        }
      ]
    },
    {
      "cell_type": "code",
      "source": [
        "predictProba = SVM4.predict_proba(X_train_scaled)[:, 1]\n",
        "y_pred = to_labels(predictProba, thresholds[ix])\n",
        "\n",
        "print(\"accuracy score =\", accuracy_score(y_train1, y_pred))\n",
        "print(\"confusion matrix\\n\", confusion_matrix(y_train1, y_pred))\n",
        "print(\"precision score = \" + str(precision_score(y_train1, y_pred)))\n",
        "print(\"recall score = \" + str(recall_score(y_train1, y_pred)))\n",
        "print(\"f1 score = \" + str(f1_score(y_train1, y_pred)))"
      ],
      "metadata": {
        "colab": {
          "base_uri": "https://localhost:8080/"
        },
        "outputId": "6216e117-97c3-42b2-874e-4d0db2467466",
        "id": "y1aCthjMW9Ud"
      },
      "execution_count": 37,
      "outputs": [
        {
          "output_type": "stream",
          "name": "stdout",
          "text": [
            "accuracy score = 0.9958828483203893\n",
            "confusion matrix\n",
            " [[18933    94]\n",
            " [   82 23639]]\n",
            "precision score = 0.9960392702144693\n",
            "recall score = 0.9965431474221155\n",
            "f1 score = 0.9962911451089476\n"
          ]
        }
      ]
    },
    {
      "cell_type": "markdown",
      "source": [
        "##### **Set 20-15-15-50**"
      ],
      "metadata": {
        "id": "nvRHKu5oW9Ud"
      }
    },
    {
      "cell_type": "code",
      "source": [
        "from sklearn.preprocessing import StandardScaler\n",
        "scaler = StandardScaler()\n",
        "X_train_scaled = scaler.fit_transform(X_train2)\n",
        "X_test_scaled = scaler.transform(X_test2)\n",
        "X_tuning_scaled = scaler.transform(X_tuning2)\n",
        "\n",
        "SVM5 = SVC(random_state = 42, probability = True)\n",
        "SVM5.fit(X_test_scaled, y_test2)"
      ],
      "metadata": {
        "id": "FeJ0UfKeW9Ud",
        "colab": {
          "base_uri": "https://localhost:8080/"
        },
        "outputId": "0d665363-4878-42b7-fca2-68a5122b5ea4"
      },
      "execution_count": 38,
      "outputs": [
        {
          "output_type": "stream",
          "name": "stderr",
          "text": [
            "/usr/local/lib/python3.7/dist-packages/sklearn/utils/validation.py:993: DataConversionWarning: A column-vector y was passed when a 1d array was expected. Please change the shape of y to (n_samples, ), for example using ravel().\n",
            "  y = column_or_1d(y, warn=True)\n"
          ]
        },
        {
          "output_type": "execute_result",
          "data": {
            "text/plain": [
              "SVC(probability=True, random_state=42)"
            ]
          },
          "metadata": {},
          "execution_count": 38
        }
      ]
    },
    {
      "cell_type": "code",
      "source": [
        "predictProba = SVM5.predict_proba(X_tuning_scaled)[:, 1]\n",
        "precision, recall, thresholds = precision_recall_curve(y_tuning2, predictProba)\n",
        "\n",
        "fSscores = (2 * precision * recall)/(precision + recall)\n",
        "fSscores = [0 if pd.isna(x) else x for x in fSscores]\n",
        "# locate the index of the largest f score\n",
        "ix = argmax(fSscores)\n",
        "\n",
        "# plot the roc curve for the model\n",
        "plt.plot(recall, precision, label = \"SVM\")\n",
        "plt.scatter(recall[ix], precision[ix], marker = 'o', color = 'red', label = 'Best')\n",
        "plt.legend()\n",
        "\n",
        "print(\"Best Threshold = {}, F-Score = {}\".format(thresholds[ix], fSscores[ix]))"
      ],
      "metadata": {
        "colab": {
          "base_uri": "https://localhost:8080/",
          "height": 0
        },
        "outputId": "3d4944a7-d837-41c3-9b92-a393ba4ead48",
        "id": "DzWqKUyBW9Ud"
      },
      "execution_count": 39,
      "outputs": [
        {
          "output_type": "stream",
          "name": "stdout",
          "text": [
            "Best Threshold = 0.7487411467092117, F-Score = 0.9996066863323501\n"
          ]
        },
        {
          "output_type": "display_data",
          "data": {
            "text/plain": [
              "<Figure size 432x288 with 1 Axes>"
            ],
            "image/png": "[encoded data removed]"
          },
          "metadata": {
            "needs_background": "light"
          }
        }
      ]
    },
    {
      "cell_type": "code",
      "source": [
        "predictProba = SVM5.predict_proba(X_train_scaled)[:, 1]\n",
        "y_pred = to_labels(predictProba, thresholds[ix])\n",
        "\n",
        "print(\"accuracy score =\", accuracy_score(y_train2, y_pred))\n",
        "print(\"confusion matrix\\n\", confusion_matrix(y_train2, y_pred))\n",
        "print(\"precision score = \" + str(precision_score(y_train2, y_pred)))\n",
        "print(\"recall score = \" + str(recall_score(y_train2, y_pred)))\n",
        "print(\"f1 score = \" + str(f1_score(y_train2, y_pred)))"
      ],
      "metadata": {
        "colab": {
          "base_uri": "https://localhost:8080/"
        },
        "outputId": "bb59f5c4-4ade-4fe2-f554-c981fcb39dfa",
        "id": "YWbtajC1W9Ud"
      },
      "execution_count": 40,
      "outputs": [
        {
          "output_type": "stream",
          "name": "stdout",
          "text": [
            "accuracy score = 0.9994104739134707\n",
            "confusion matrix\n",
            " [[13573    17]\n",
            " [    1 16942]]\n",
            "precision score = 0.9989975824046229\n",
            "recall score = 0.9999409785752228\n",
            "f1 score = 0.9994690578726919\n"
          ]
        }
      ]
    }
  ]
}